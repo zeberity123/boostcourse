{
  "cells": [
    {
      "cell_type": "markdown",
      "metadata": {
        "id": "veaZg0btxSAx"
      },
      "source": [
        "## 음주 여부에 따라 건강검진 수치 차이가 있을까?\n",
        "##  신장과 허리둘레의 크기는 체중과 상관관계가 있을까?\n",
        "\n",
        "* 분석을 통해 가설을 검정해 봅니다.\n",
        "\n",
        "## 라이브러리 로드"
      ]
    },
    {
      "cell_type": "code",
      "execution_count": null,
      "metadata": {
        "id": "OFd5i5S-xSA1"
      },
      "outputs": [],
      "source": [
        "# 분석에 사용할 pandas, 수치계산에 사용할 numpy, 시각화에 사용할 seaborn 을 불러옵니다.\n",
        "# 또, 구 버전의 주피터 노트북에서는 %matplotlib inline 설정을 되어야 노트북 안에서 그래프를 시각화 합니다.\n",
        "\n"
      ]
    },
    {
      "cell_type": "markdown",
      "metadata": {
        "id": "Gb5nhOSDxSA3"
      },
      "source": [
        "## 한글폰트 설정"
      ]
    },
    {
      "cell_type": "code",
      "execution_count": null,
      "metadata": {
        "id": "W2hCqO1exSA3"
      },
      "outputs": [],
      "source": [
        "# # Google Colab 사용 시 아래 주석을 풀고 폰트설정을 합니다.\n",
        "# # 로컬 아나콘다 사용 시에는 그대로 주석처리 해놓으시면 됩니다.\n",
        "# # 나눔고딕 설치\n",
        "# # 이 코드를 사용시 아래에 있는 폰트를 로드할 경우 colab에서는 오류가 발생하니\n",
        "# # 아래에 있는 폰트 설정은 꼭 주석처리를 해주세요.\n",
        "# !apt -qq -y install fonts-nanum > /dev/null\n",
        "\n",
        "# import matplotlib.font_manager as fm\n",
        "\n",
        "# fontpath = '/usr/share/fonts/truetype/nanum/NanumBarunGothic.ttf'\n",
        "# font = fm.FontProperties(fname=fontpath, size=9)\n",
        "# fm._rebuild()\n",
        "\n",
        "\n",
        "# # Colab 의 한글 폰트 설정\n",
        "# plt.rc('font', family='NanumGothic')\n",
        "# # 마이너스 폰트 깨지는 문제에 대한 대처\n",
        "# plt.rc(\"axes\", unicode_minus=False)"
      ]
    },
    {
      "cell_type": "code",
      "execution_count": null,
      "metadata": {
        "id": "4edyrygExSA4"
      },
      "outputs": [],
      "source": [
        "# 한글폰트를 설정해 주지 않으면 그래프 상에서 한글이 깨져보입니다.\n",
        "# 한글이 출력될 수 있도록 폰트 설정을 해줍니다.\n",
        "import matplotlib.pyplot as plt\n",
        "# 운영체제별 설정을 위해 로드 합니다.\n",
        "import os\n",
        "\n",
        "# 윈도우, 맥 외의 OS는 별도로 설정해 주세요.\n",
        "\n",
        "# 마이너스 폰트 깨지는 문제에 대한 대처\n"
      ]
    },
    {
      "cell_type": "code",
      "execution_count": null,
      "metadata": {
        "id": "ED58gn8zxSA4"
      },
      "outputs": [],
      "source": [
        "# 레티나 설정을 해주면 글씨가 좀 더 선명하게 보입니다.\n",
        "# 폰트의 주변이 흐릿하게 보이는 것을 방지합니다.\n",
        "%config InlineBackend.figure_format = 'retina'"
      ]
    },
    {
      "cell_type": "markdown",
      "metadata": {
        "id": "LmJ85WL8xSA5"
      },
      "source": [
        "## 데이터 불러오기\n",
        "* 건강검진정보란 2002년부터 2013년까지의 국민건강보험의 직장가입자와 40세 이상의 피부양자, 세대주인 지역가입자와 40세 이상의 지역가입자의 일반건강검진 결과와 이들 일반건강검진 대상자 중에 만40세와 만66세에 도달한 이들이 받게 되는 생애전환기건강진단 수검이력이 있는 각 연도별 수진자 100만 명에 대한 기본정보(성, 연령대, 시도코드 등)와 검진내역(신장, 체중, 총콜레스테롤, 혈색소 등)으로 구성된 개방데이터이다.\n",
        "\n",
        "공공데이터 개방서비스( http://nhiss.nhis.or.kr/op/it/index.do )에서도 다운로드 받을 수 있음.\n",
        "\n",
        "* 건강검진정보(2018) 다운로드 받기 : https://www.data.go.kr/dataset/15007122/fileData.do\n",
        "* 2019년 데이터로 실습을 하셔도 됩니다. 다만 encoding과 컬럼명이 달라서 2019년 데이터에 맞게 고쳐주시면 됩니다.\n",
        "* 2019년 외 다른 연도의 데이터로도 실습을 하고자 한다면 컬럼명과 인코딩에 주의해 주세요."
      ]
    },
    {
      "cell_type": "code",
      "execution_count": null,
      "metadata": {
        "id": "Ug6Nkb-WxSA5"
      },
      "outputs": [],
      "source": [
        "# 다운로드 받은 파일을 판다스의 read_csv 를 통해 읽어옵니다.\n",
        "# 파일을 읽어온 후 shape 로 행과 열의 수를 출력합니다.\n"
      ]
    },
    {
      "cell_type": "markdown",
      "metadata": {
        "id": "hk5dmdBvxSA6"
      },
      "source": [
        "### 데이터 미리보기"
      ]
    },
    {
      "cell_type": "code",
      "execution_count": null,
      "metadata": {
        "id": "ucD7SLXQxSA6"
      },
      "outputs": [],
      "source": [
        "# sample, head, tail을 통해 데이터를 미리보기 합니다.\n"
      ]
    },
    {
      "cell_type": "code",
      "execution_count": null,
      "metadata": {
        "id": "-Ou5GL5rxSA7"
      },
      "outputs": [],
      "source": []
    },
    {
      "cell_type": "markdown",
      "metadata": {
        "id": "Q-NrEXZuxSA7"
      },
      "source": [
        "## 기본정보 보기"
      ]
    },
    {
      "cell_type": "code",
      "execution_count": null,
      "metadata": {
        "scrolled": false,
        "id": "18f8-AM1xSA7"
      },
      "outputs": [],
      "source": [
        "# info를 통해 데이터의 크기, 형식, 메모리 사용량 등을 봅니다.\n"
      ]
    },
    {
      "cell_type": "code",
      "execution_count": null,
      "metadata": {
        "scrolled": true,
        "id": "4TSeI6trxSA7"
      },
      "outputs": [],
      "source": [
        "# 컬럼의 수가 많습니다. 컬럼만 따로 출력합니다.\n"
      ]
    },
    {
      "cell_type": "code",
      "execution_count": null,
      "metadata": {
        "id": "BjOyvQvUxSA7"
      },
      "outputs": [],
      "source": [
        "# dtypes 를 통해 데이터 형식만 출력합니다.\n"
      ]
    },
    {
      "cell_type": "markdown",
      "metadata": {
        "id": "KhI_aoa6xSA7"
      },
      "source": [
        "## 결측치 보기"
      ]
    },
    {
      "cell_type": "code",
      "execution_count": null,
      "metadata": {
        "id": "aPZMHwbJxSA8"
      },
      "outputs": [],
      "source": [
        "# isnull 을 통해 결측치를 bool 값으로 표시하고 sum을 하면 컬럼마다의 결측치 수를 세어줍니다.\n"
      ]
    },
    {
      "cell_type": "code",
      "execution_count": null,
      "metadata": {
        "id": "4VjIr3V2xSA8"
      },
      "outputs": [],
      "source": [
        "# isna로도 결측치 여부를 확인하고 sum을 통해 결측치 수를 집계할 수 있습니다.\n"
      ]
    },
    {
      "cell_type": "code",
      "execution_count": null,
      "metadata": {
        "id": "-cwIrBY4xSA8"
      },
      "outputs": [],
      "source": [
        "# 판다스에 내장 된 plot을 통해 시각화를 합니다.\n"
      ]
    },
    {
      "cell_type": "markdown",
      "metadata": {
        "id": "tiKtbSOhxSA8"
      },
      "source": [
        "## 일부 데이터 요약하기"
      ]
    },
    {
      "cell_type": "code",
      "execution_count": null,
      "metadata": {
        "id": "PxuedQwzxSA8"
      },
      "outputs": [],
      "source": [
        "# 여러 컬럼을 가져옵니다.\n",
        "# \"(혈청지오티)ALT\", \"(혈청지오티)AST\" 를 가져와 미리보기 합니다.\n"
      ]
    },
    {
      "cell_type": "code",
      "execution_count": null,
      "metadata": {
        "scrolled": true,
        "id": "l87FnmoIxSA8"
      },
      "outputs": [],
      "source": [
        "# \"(혈청지오티)ALT\", \"(혈청지오티)AST\" 를 요약합니다.\n"
      ]
    },
    {
      "cell_type": "markdown",
      "metadata": {
        "id": "_QFeLjsgxSA8"
      },
      "source": [
        "## value_counts 로 값 집계하기"
      ]
    },
    {
      "cell_type": "code",
      "execution_count": null,
      "metadata": {
        "id": "wsCEoxBzxSA8"
      },
      "outputs": [],
      "source": [
        "# value_counts 를 통해 성별코드로 그룹화 하고 갯수를 집계합니다.\n"
      ]
    },
    {
      "cell_type": "code",
      "execution_count": null,
      "metadata": {
        "id": "Sn1auNmNxSA8"
      },
      "outputs": [],
      "source": [
        "# value_counts 를 통해 흡연상태로 그룹화 하고 갯수를 집계합니다.\n"
      ]
    },
    {
      "cell_type": "markdown",
      "metadata": {
        "id": "cCaJ5t4gxSA9"
      },
      "source": [
        "## groupby 와 pivot_table 사용하기"
      ]
    },
    {
      "cell_type": "markdown",
      "metadata": {
        "id": "Oa2PFL3cxSA9"
      },
      "source": [
        "### groupby"
      ]
    },
    {
      "cell_type": "code",
      "execution_count": null,
      "metadata": {
        "id": "YFcaxGd-xSA9"
      },
      "outputs": [],
      "source": [
        "# groupby를 통해 데이터를 그룹화 합니다.\n",
        "# 성별코드로 그룹화 한 데이터를 세어 봅니다.\n"
      ]
    },
    {
      "cell_type": "code",
      "execution_count": null,
      "metadata": {
        "id": "FBDQAXDPxSA9"
      },
      "outputs": [],
      "source": [
        "# 성별코드와 음주여부로 그룹화를 하고 갯수를 세어봅니다.\n"
      ]
    },
    {
      "cell_type": "code",
      "execution_count": null,
      "metadata": {
        "scrolled": true,
        "id": "E6dVDUlcxSA9"
      },
      "outputs": [],
      "source": [
        "# 성별코드와 음주여부로 그룹화를 하고 감마지티피의 평균을 구합니다.\n"
      ]
    },
    {
      "cell_type": "code",
      "execution_count": null,
      "metadata": {
        "id": "MnM7Abz-xSA9"
      },
      "outputs": [],
      "source": [
        "# 성별코드와 음주여부로 그룹화를 하고 감마지티피의 요약수치를 구합니다.\n"
      ]
    },
    {
      "cell_type": "code",
      "execution_count": null,
      "metadata": {
        "id": "-TfzVn0TxSA9"
      },
      "outputs": [],
      "source": [
        "# agg을 사용하면 여러 수치를 함께 구할 수 있습니다.\n"
      ]
    },
    {
      "cell_type": "markdown",
      "metadata": {
        "id": "tXYpaOluxSA9"
      },
      "source": [
        "### pivot_table\n",
        "* https://pandas.pydata.org/pandas-docs/stable/reference/api/pandas.pivot_table.html"
      ]
    },
    {
      "cell_type": "code",
      "execution_count": null,
      "metadata": {
        "scrolled": true,
        "id": "w_YQsUifxSA9"
      },
      "outputs": [],
      "source": [
        "# 음주여부에 따른 그룹화된 수를 피봇테이블로 구합니다.\n"
      ]
    },
    {
      "cell_type": "code",
      "execution_count": null,
      "metadata": {
        "id": "7SMRflt1xSA-"
      },
      "outputs": [],
      "source": [
        "# 음주여부에 따른 감마지티피의 평균을 구합니다.\n"
      ]
    },
    {
      "cell_type": "code",
      "execution_count": null,
      "metadata": {
        "id": "GSrTF58yxSA-"
      },
      "outputs": [],
      "source": [
        "# 기본값은 평균을 구하지만 aggfunc을 통해 지정해 줄 수도 있습니다.\n"
      ]
    },
    {
      "cell_type": "code",
      "execution_count": null,
      "metadata": {
        "id": "G0djrlmGxSA-"
      },
      "outputs": [],
      "source": [
        "# aggfunc에 여러 값을 한번에 지정할 수도 있습니다.\n"
      ]
    },
    {
      "cell_type": "code",
      "execution_count": null,
      "metadata": {
        "id": "oZdOJjvdxSA-"
      },
      "outputs": [],
      "source": [
        "# aggfunc에 describe를 사용해 통계요약값을 한번에 볼 수도 있습니다.\n"
      ]
    },
    {
      "cell_type": "code",
      "execution_count": null,
      "metadata": {
        "id": "zzVd9XqXxSA-"
      },
      "outputs": [],
      "source": [
        "# 성별코드, 음주여부에 따른 감마지티피 값의 평균을 구합니다.\n"
      ]
    },
    {
      "cell_type": "markdown",
      "metadata": {
        "id": "6xHj4CY4xSBM"
      },
      "source": [
        "## 전체 데이터 시각화 하기\n",
        "* 100만개가 넘는 데이터를 시각화할 때는 되도록이면 groupby 혹은 pivot_table로 연산을 하고 시각화를 하는 것을 권장합니다.\n",
        "* 100만개가 넘는 데이터를 seaborn과 같은 고급 통계 연산을 하는 그래프를 사용하게 되면 많이 느릴 수 있습니다."
      ]
    },
    {
      "cell_type": "markdown",
      "metadata": {
        "id": "zyklYNTqxSBN"
      },
      "source": [
        "### 히스토그램\n",
        "* 판다스의 info 기능을 통해 대부분 수치 데이터로 이루어 진것을 확인할 수 있었습니다.\n",
        "* 히스토그램을 사용하면 수치데이터를 bin 의 갯수만큼 그룹화 해서 도수분포표를 만들고 그 결과를 시각화 합니다.\n",
        "* 이 데이터에는 수치데이터가 많기 때문에 판다스의 hist를 사용해서 히스토그램을 그립니다."
      ]
    },
    {
      "cell_type": "code",
      "execution_count": null,
      "metadata": {
        "scrolled": true,
        "id": "_22WX4tmxSBN"
      },
      "outputs": [],
      "source": [
        "# 전체 데이터에 대한 히스토그램을 출력합니다.\n",
        "\n"
      ]
    },
    {
      "cell_type": "markdown",
      "metadata": {
        "id": "SBEzgdaNxSBN"
      },
      "source": [
        "### 슬라이싱을 사용해 히스토그램 그리기\n",
        "* 슬라이싱 기능을 사용해서 데이터를 나누어 그립니다.\n",
        "* 슬라이싱 사용시 iloc를 활용하면 인덱스의 순서대로 슬라이싱이 가능합니다.\n",
        "* iloc[행, 열] 순으로 인덱스를 써주면 해당 인덱스만 불러오며, 전체 데이터를 가져오고자 할 때는 [:, :]을 사용합니다.\n",
        "* 슬라이싱을 해주는 대괄호 안의 콜론 앞뒤에 숫자를 써주게 되면 해당 시작인덱스:끝나는인덱스(+1)를 지정할 수 있습니다."
      ]
    },
    {
      "cell_type": "code",
      "execution_count": null,
      "metadata": {
        "id": "WDTxaDIQxSBN"
      },
      "outputs": [],
      "source": [
        "# 슬라이싱을 사용해 앞에서 12개 컬럼에 대한 데이터로 히스토그램을 그립니다.\n",
        "# [행, 열]\n"
      ]
    },
    {
      "cell_type": "code",
      "execution_count": null,
      "metadata": {
        "id": "yOccymI_xSBO"
      },
      "outputs": [],
      "source": [
        "# 슬라이싱을 사용해 앞에서 12번째부터 23번째까지(12:24) 컬럼에 대한 데이터로 히스토그램을 그립니다.\n"
      ]
    },
    {
      "cell_type": "code",
      "execution_count": null,
      "metadata": {
        "id": "9I2XAVWdxSBO"
      },
      "outputs": [],
      "source": [
        "# 슬라이싱을 사용해 앞에서 24번째부터 마지막까지(24:) 컬럼에 대한 데이터로 히스토그램을 그립니다.\n"
      ]
    },
    {
      "cell_type": "markdown",
      "metadata": {
        "id": "G0_4yfVfxSBO"
      },
      "source": [
        "\n",
        "## 샘플데이터 추출하기\n",
        "* seaborn 의 그래프는 내부에서 수학적 연산이 되기 때문에 데이터가 많으면 속도가 오래 걸립니다.\n",
        "* 따라서 전체 데이터를 사용하면 너무 느리기 때문에 일부만 샘플링해서 사용합니다."
      ]
    },
    {
      "cell_type": "code",
      "execution_count": null,
      "metadata": {
        "id": "bLYZTqNZxSBO"
      },
      "outputs": [],
      "source": [
        "# df.sample을 통해 일부 데이터만 샘플데이터를 추출합니다.\n",
        "# random_state 를 사용해 샘플링되는 값을 고정할 수 있습니다.\n",
        "# 실험을 통제하기 위해 random_state를 고정하기도 합니다.\n",
        "# 여기에서는 1을 사용하겠습니다. 이 값은 높든 낮든 상관 없이 값을 고정시키는 역할만 합니다.\n",
        "\n"
      ]
    },
    {
      "cell_type": "markdown",
      "metadata": {
        "id": "IQBjNvo2xSBO"
      },
      "source": [
        "## 데이터 시각화 도구 Seaborn 사용하기\n",
        "* https://seaborn.pydata.org/\n",
        "* seaborn 은 https://matplotlib.org/ 을 사용하기 쉽게 만들어 졌으며, 간단하게 고급 통계 연산을 할 수 있습니다."
      ]
    },
    {
      "cell_type": "markdown",
      "metadata": {
        "id": "Jxw-u-itxSBO"
      },
      "source": [
        "## 범주형(카테고리) 데이터 시각화\n",
        "* countplot은 범주형 데이터의 수를 더한 값을 그래프로 표현합니다.\n",
        "* value_counts 로 구한 값을 시각화 한다고 보면 됩니다."
      ]
    },
    {
      "cell_type": "markdown",
      "metadata": {
        "id": "CKl0aFH5xSBP"
      },
      "source": [
        "### countplot - 음주여부"
      ]
    },
    {
      "cell_type": "code",
      "execution_count": null,
      "metadata": {
        "id": "uaUOhZQjxSBP"
      },
      "outputs": [],
      "source": [
        "# 음주여부에 따른 countplot을 그립니다.\n",
        "\n"
      ]
    },
    {
      "cell_type": "code",
      "execution_count": null,
      "metadata": {
        "id": "1hNIhFdQxSBP"
      },
      "outputs": [],
      "source": []
    },
    {
      "cell_type": "markdown",
      "metadata": {
        "id": "G8jX7Kw-xSBP"
      },
      "source": [
        "### hue 옵션 사용하기"
      ]
    },
    {
      "cell_type": "code",
      "execution_count": null,
      "metadata": {
        "id": "vcNvxroxxSBP"
      },
      "outputs": [],
      "source": [
        "# 음주여부에 따른 countplot을 그리고 hue 를 사용해 성별코드로 색상을 구분해 그립니다.\n",
        "# 여기에서 hue는 포토샵에 있는 hue 메뉴를 떠올리면 됩니다. 색상을 의미합니다.\n",
        "# 또, seaborn 에서 제공하는 폰트 설정을 사용하실 수도 있습니다.\n",
        "# 다만, 이 때 seaborn 의 기본 스타일이 적용되는 것을 확인해 주시는 것이 좋습니다.\n",
        "# Mac\n",
        "# sns.set(font_scale=1.5, font=\"AppleGothic\")\n",
        "# Window\n",
        "# sns.set(font_scale=1.5, font=\"Malgun Gothic\")\n"
      ]
    },
    {
      "cell_type": "code",
      "execution_count": null,
      "metadata": {
        "id": "pjDOiDglxSBP"
      },
      "outputs": [],
      "source": [
        "# countplot으로 연령대별 음주여부를 봅니다.\n",
        "# hue를 사용해 다른 색상으로 표현합니다.\n"
      ]
    },
    {
      "cell_type": "markdown",
      "metadata": {
        "id": "NYjWm-aCxSBQ"
      },
      "source": [
        "### countplot - 키와 몸무게\n",
        "* 키와 몸무게는 연속형 데이터라고 볼 수 있습니다.\n",
        "* 하지만 이 데이터는 키는 5cm, 체중은 5kg 단위로 되어 있습니다.\n",
        "* 이렇게 특정 범위로 묶게 되면 연속형 데이터라기 보다는 범주형 데이터라고 볼 수 있습니다."
      ]
    },
    {
      "cell_type": "code",
      "execution_count": null,
      "metadata": {
        "id": "_h3B95mwxSBQ"
      },
      "outputs": [],
      "source": [
        "# counplot으로 키를 봅니다.\n",
        "\n"
      ]
    },
    {
      "cell_type": "code",
      "execution_count": null,
      "metadata": {
        "id": "ljugZeiUxSBQ"
      },
      "outputs": [],
      "source": [
        "# counplot으로 체중을 봅니다.\n"
      ]
    },
    {
      "cell_type": "code",
      "execution_count": null,
      "metadata": {
        "id": "MXGIXPYKxSBQ"
      },
      "outputs": [],
      "source": [
        "# counplot으로 신장(5Cm단위)를 봅니다.\n",
        "# 성별에 따른 키의 차이를 봅니다.\n"
      ]
    },
    {
      "cell_type": "code",
      "execution_count": null,
      "metadata": {
        "id": "o8jqvsSxxSBQ"
      },
      "outputs": [],
      "source": [
        "# 성별에 따른 체중의 차이를 봅니다.\n",
        "\n"
      ]
    },
    {
      "cell_type": "markdown",
      "metadata": {
        "id": "gwqZoglexSBR"
      },
      "source": [
        "### barplot - 수치형 vs 범주형 데이터 시각화"
      ]
    },
    {
      "cell_type": "code",
      "execution_count": null,
      "metadata": {
        "id": "0RprGwSFxSBR"
      },
      "outputs": [],
      "source": [
        "# 연령대코드와 총 콜레스테롤을 봅니다.\n",
        "# hue 로 색상을 다르게 표현할 수 있습니다. 음주여부를 함께 봅니다.\n"
      ]
    },
    {
      "cell_type": "code",
      "execution_count": null,
      "metadata": {
        "id": "osQJr6lrxSBR"
      },
      "outputs": [],
      "source": [
        "# 연령대코드와 총 콜레스테롤을 봅니다.\n",
        "# 콜레스테롤과 연령대코드(5세단위)를 흡연상태에 따라 barplot으로 그립니다.\n"
      ]
    },
    {
      "cell_type": "code",
      "execution_count": null,
      "metadata": {
        "id": "_eRDJ2u1xSBR"
      },
      "outputs": [],
      "source": [
        "# 트리글리세라이드(중성지방) 에 따른 연령대코드(5세단위)를 음주여부에 따라 barplot으로 그립니다.\n"
      ]
    },
    {
      "cell_type": "code",
      "execution_count": null,
      "metadata": {
        "id": "nH62kXJgxSBR"
      },
      "outputs": [],
      "source": [
        "# 음주여부와 체중(5Kg 단위)을 성별에 따라 봅니다.\n",
        "\n"
      ]
    },
    {
      "cell_type": "code",
      "execution_count": null,
      "metadata": {
        "id": "4g399W9UxSBR"
      },
      "outputs": [],
      "source": [
        "# 연령대코드(5세단위) 에 따른 체중(5Kg 단위) 을 음주여부에 따라 barplot으로 그립니다.\n"
      ]
    },
    {
      "cell_type": "markdown",
      "metadata": {
        "id": "ETWN5HBGxSBS"
      },
      "source": [
        "### lineplot and pointplot"
      ]
    },
    {
      "cell_type": "code",
      "execution_count": null,
      "metadata": {
        "id": "rew8EcekxSBS"
      },
      "outputs": [],
      "source": [
        "# 연령대코드(5세단위) 에 따른 체중(5Kg 단위) 을 성별코드에 따라 lineplot으로 그립니다.\n"
      ]
    },
    {
      "cell_type": "code",
      "execution_count": null,
      "metadata": {
        "id": "lWjl10fsxSBS"
      },
      "outputs": [],
      "source": [
        "# 연령대코드(5세단위) 에 따른 신장(5Cm단위) 을 성별코드에 따라 lineplot으로 그립니다.\n"
      ]
    },
    {
      "cell_type": "code",
      "execution_count": null,
      "metadata": {
        "id": "oRgZlPfZxSBS"
      },
      "outputs": [],
      "source": [
        "# 연령대코드(5세단위) 에 따른 체중(5Kg 단위) 을 음주여부에 따라 pointplot과 barplot으로 그립니다.\n",
        "\n"
      ]
    },
    {
      "cell_type": "code",
      "execution_count": null,
      "metadata": {
        "id": "BPgFX_I4xSBS"
      },
      "outputs": [],
      "source": [
        "# 연령대코드(5세단위) 에 따른 신장(5Cm단위) 을 성별코드에 따라 pointplot으로 그립니다.\n",
        "\n"
      ]
    },
    {
      "cell_type": "code",
      "execution_count": null,
      "metadata": {
        "id": "2km82OhpxSBS"
      },
      "outputs": [],
      "source": [
        "# 연령대코드(5세단위) 에 따른 혈색소를 음주여부에 따라 lineplot으로 그립니다.\n"
      ]
    },
    {
      "cell_type": "markdown",
      "metadata": {
        "id": "-zeDFAbExSBT"
      },
      "source": [
        "### boxplot\n",
        "\n",
        "* https://pandas.pydata.org/pandas-docs/stable/user_guide/visualization.html\n",
        "* https://pandas.pydata.org/pandas-docs/stable/reference/api/pandas.DataFrame.boxplot.html\n",
        "\n",
        "* [상자 수염 그림 - 위키백과, 우리 모두의 백과사전](https://ko.wikipedia.org/wiki/%EC%83%81%EC%9E%90_%EC%88%98%EC%97%BC_%EA%B7%B8%EB%A6%BC)\n",
        "* 가공하지 않은 자료 그대로를 이용하여 그린 것이 아니라, 자료로부터 얻어낸 통계량인 5가지 요약 수치로 그린다.\n",
        "* 5가지 요약 수치란 기술통계학에서 자료의 정보를 알려주는 아래의 다섯 가지 수치를 의미한다.\n",
        "\n",
        "\n",
        "1. 최솟값\n",
        "1. 제 1사분위수\n",
        "1. 제 2사분위수( ), 즉 중앙값\n",
        "1. 제 3 사분위 수( )\n",
        "1. 최댓값\n",
        "\n",
        "* Box plot 이해하기 :\n",
        "    * [박스 플롯에 대하여 :: -[|]- Box and Whisker](https://boxnwhis.kr/2019/02/19/boxplot.html)\n",
        "    * [Understanding Boxplots – Towards Data Science](https://towardsdatascience.com/understanding-boxplots-5e2df7bcbd51)"
      ]
    },
    {
      "cell_type": "code",
      "execution_count": null,
      "metadata": {
        "id": "yhsZgR3jxSBT"
      },
      "outputs": [],
      "source": [
        "# boxplot으로 신장(5Cm단위) 에 따른 체중(5Kg 단위) 을 그리며, 성별코드에 따라 다른 색상으로 표현되게 합니다.\n"
      ]
    },
    {
      "cell_type": "markdown",
      "metadata": {
        "id": "R9YSwERrxSBT"
      },
      "source": [
        "### violinplot"
      ]
    },
    {
      "cell_type": "code",
      "execution_count": null,
      "metadata": {
        "id": "pfSjd1SYxSBT"
      },
      "outputs": [],
      "source": [
        "# violinplot 신장(5Cm단위)에 따른 체중(5Kg 단위) 을 그리며, 음주여부에 따라 다른 색상으로 표현되게 합니다.\n"
      ]
    },
    {
      "cell_type": "code",
      "execution_count": null,
      "metadata": {
        "id": "7cFv--SKxSBT"
      },
      "outputs": [],
      "source": [
        "# violinplot의 split 기능을 사용해 봅니다.\n"
      ]
    },
    {
      "cell_type": "code",
      "execution_count": null,
      "metadata": {
        "id": "7oPQKTrxxSBU"
      },
      "outputs": [],
      "source": [
        "# violinplot 연령대코드(5세단위)에 따른 혈색소를 그리며, 음주여부에 따라 다른 색상으로 표현되게 합니다.\n"
      ]
    },
    {
      "cell_type": "markdown",
      "metadata": {
        "id": "17KkrrvdxSBU"
      },
      "source": [
        "### swarm plot\n",
        "* 범주형 데이터를 산점도로 시각화하고자 할 때 사용합니다."
      ]
    },
    {
      "cell_type": "code",
      "execution_count": null,
      "metadata": {
        "scrolled": true,
        "id": "Ulf7YNGmxSBU"
      },
      "outputs": [],
      "source": [
        "# swarmplot으로 신장(5Cm단위)에 따른 체중(5Kg 단위) 을 그리며, 음주여부에 따라 다른 색상으로 표현되게 합니다.\n",
        "# 점을 하나씩 찍기 때문에 오래 걸리는 코드는 전체로 그려보기 전에 일부만 가져와 그려봅니다.\n",
        "\n"
      ]
    },
    {
      "cell_type": "code",
      "execution_count": null,
      "metadata": {
        "id": "CGcEPOR3xSBU"
      },
      "outputs": [],
      "source": [
        "# swarmplot으로 연령대코드(5세단위)에 따른 음주여부 그리며, 성별코드에 따라 다른 색상으로 표현되게 합니다.\n",
        "# 점을 하나씩 찍기 때문에 오래 걸리는 코드는 전체로 그려보기 전에 일부만 가져와 그려봅니다.\n"
      ]
    },
    {
      "cell_type": "code",
      "execution_count": null,
      "metadata": {
        "id": "UXi7mQg5xSBU"
      },
      "outputs": [],
      "source": [
        "# lmplot 으로 그리기\n"
      ]
    },
    {
      "cell_type": "markdown",
      "metadata": {
        "id": "AGDm9Y40xSBU"
      },
      "source": [
        "## 수치형 데이터 시각화"
      ]
    },
    {
      "cell_type": "markdown",
      "metadata": {
        "id": "Jp8iOfzwxSBU"
      },
      "source": [
        "### scatterplot - 산점도\n",
        "* 수치형 vs 수치형 데이터의 상관 관계를 볼 때 주로 사용합니다.\n",
        "* 점의 크기를 데이터의 수치에 따라 다르게 볼 수 있습니다."
      ]
    },
    {
      "cell_type": "code",
      "execution_count": null,
      "metadata": {
        "id": "Zods1lbGxSBV"
      },
      "outputs": [],
      "source": [
        "# scatterplot 으로 \"(혈청지오티)AST\", \"(혈청지오티)ALT\" 을 그리고 음주여부에 따라 다른 색상으로 표현되게 합니다.\n",
        "\n"
      ]
    },
    {
      "cell_type": "markdown",
      "metadata": {
        "id": "uxve7EKyxSBV"
      },
      "source": [
        "### lmplot - 상관 관계를 보기"
      ]
    },
    {
      "cell_type": "code",
      "execution_count": null,
      "metadata": {
        "id": "Wzmhn1VWxSBV"
      },
      "outputs": [],
      "source": [
        "# lmplot 으로 신장(5Cm단위)에 따른 체중(5Kg 단위) 을 그리며, 음주여부에 따라 다른 색상으로 표현되게 합니다.\n"
      ]
    },
    {
      "cell_type": "code",
      "execution_count": null,
      "metadata": {
        "id": "xsOQHyaPxSBV"
      },
      "outputs": [],
      "source": [
        "# lmplot의 col기능을 통해 음주여부에 따라 서브플롯을 그려봅니다.\n",
        "\n"
      ]
    },
    {
      "cell_type": "code",
      "execution_count": null,
      "metadata": {
        "id": "JXyWksItxSBV"
      },
      "outputs": [],
      "source": [
        "# lmplot 으로 수축기, 이완기혈압을 그리고 음주여부에 따라 다른 색상으로 표현되게 합니다.\n",
        "\n"
      ]
    },
    {
      "cell_type": "markdown",
      "metadata": {
        "id": "cpXJr1z5xSBV"
      },
      "source": [
        "`AST와 ALT`\n",
        "* 출처 : https://sev.iseverance.com/dept_clinic/center/liver/treatment/view.asp?con_no=87827\n",
        "\n",
        "\n",
        "```\n",
        "AST와 ALT는 간세포에 들어 있는 효소 입니다.\n",
        "\n",
        "간이 손상돼 간세포가 파괴되면 그 안에 있던 AST와 ALT 가 빠져 나와 혈액 속에 섞여 돌아다니게 됩니다. 따라서 간이 손상되면 AST와 ALT 수치가 높아집니다.\n",
        "\n",
        "정상 수치는 병원에 따라 기준치가 다소 차이가 있으나 AST가 5~35 IU/L, ALT가 5~40 IU/L 정도 입니다.\n",
        "\n",
        "\n",
        "\n",
        "간혹 전날 술을 마시거나 몸이 피곤하면 일시적으로 AST와 ALT 수치가 정상치를 웃돌 수 있으므로 딱 한 번의 검사만으로 간질환 여부를 판단하는 경우는 드뭅니다. 하지만 AST 와 ALT 같은 간수치는 간의 상태를 일차적으로 파악하는데 아주 중요한 기준이 됩니다.\n",
        "```"
      ]
    },
    {
      "cell_type": "code",
      "execution_count": null,
      "metadata": {
        "id": "aif5r_8axSBV"
      },
      "outputs": [],
      "source": [
        "# lmplot으로 \"(혈청지오티)AST\", \"(혈청지오티)ALT\" 을 그리고 음주여부에 따라 다른 색상으로 표현되게 합니다.\n",
        "\n"
      ]
    },
    {
      "cell_type": "markdown",
      "metadata": {
        "id": "zGnRdP2AxSBW"
      },
      "source": [
        "### 이상치 다루기\n",
        "* 이상치가 있으면 데이터가 자세히 보이지 않거나 이상치로 인해 회귀선이 달라지기도 합니다.\n",
        "* 시각화를 통해 찾은 이상치를 제거하고 보거나 이상치만 따로 모아 보도록 합니다."
      ]
    },
    {
      "cell_type": "code",
      "execution_count": null,
      "metadata": {
        "id": "1hFK-arlxSBW"
      },
      "outputs": [],
      "source": [
        "# \"(혈청지오티)AST\" 와 \"(혈청지오티)ALT\" 가 400 이하인 값만 데이터프레임 형태로 추출해서\n",
        "# df_ASLT 라는 변수에 담습니다.\n"
      ]
    },
    {
      "cell_type": "code",
      "execution_count": null,
      "metadata": {
        "id": "Kw74Vq7oxSBW"
      },
      "outputs": [],
      "source": [
        "# 이상치를 제거한 \"(혈청지오티)AST\" 와 \"(혈청지오티)ALT\" 를 lmplot으로 그리며\n",
        "# 음주여부에 따라 다른 색으로 표현합니다.\n",
        "\n"
      ]
    },
    {
      "cell_type": "code",
      "execution_count": null,
      "metadata": {
        "id": "LJRg8a9-xSBW"
      },
      "outputs": [],
      "source": [
        "# \"(혈청지오티)AST\" 와 \"(혈청지오티)ALT\" 가 400 이상인 값만 데이터프레임 형태로 추출해서\n",
        "# df_ASLT_high 라는 변수에 담습니다.\n",
        "\n"
      ]
    },
    {
      "cell_type": "code",
      "execution_count": null,
      "metadata": {
        "id": "LILCsx2jxSBW"
      },
      "outputs": [],
      "source": [
        "# 위에서 구한 df_ASLT_high 데이터 프레임에 담겨진 혈청지오티가 높은 데이터만 따로 봅니다.\n",
        "\n"
      ]
    },
    {
      "cell_type": "markdown",
      "metadata": {
        "id": "yHN--KjNxSBW"
      },
      "source": [
        "### distplot\n",
        "* [히스토그램 - 위키백과, 우리 모두의 백과사전](https://ko.wikipedia.org/wiki/%ED%9E%88%EC%8A%A4%ED%86%A0%EA%B7%B8%EB%9E%A8)\n",
        "* [확률 밀도 함수 - 위키백과, 우리 모두의 백과사전](https://ko.wikipedia.org/wiki/%ED%99%95%EB%A5%A0_%EB%B0%80%EB%8F%84_%ED%95%A8%EC%88%98)"
      ]
    },
    {
      "cell_type": "code",
      "execution_count": null,
      "metadata": {
        "id": "pye_kL1DxSBX"
      },
      "outputs": [],
      "source": [
        "# 수치형 데이터로 된 컬럼을 찾기 위해 컬럼명만 따로 출력합니다.\n",
        "\n"
      ]
    },
    {
      "cell_type": "code",
      "execution_count": null,
      "metadata": {
        "id": "BPiOOnwSxSBX"
      },
      "outputs": [],
      "source": [
        "# \"총콜레스테롤\" 에 따른 distplot 을 그립니다.\n"
      ]
    },
    {
      "cell_type": "code",
      "execution_count": null,
      "metadata": {
        "id": "mDTX08tMxSBX"
      },
      "outputs": [],
      "source": [
        "# 음주여부가 1인 값에 대한 \"총콜레스테롤\" 을 distplot 으로 그립니다.\n",
        "\n"
      ]
    },
    {
      "cell_type": "code",
      "execution_count": null,
      "metadata": {
        "id": "i94F2Q0vxSBX"
      },
      "outputs": [],
      "source": [
        "# 음주여부가 0인 값에 대한 \"총콜레스테롤\" 을 distplot 으로 그립니다.\n",
        "\n"
      ]
    },
    {
      "cell_type": "code",
      "execution_count": null,
      "metadata": {
        "id": "abJWO7XjxSBX"
      },
      "outputs": [],
      "source": [
        "# 음주여부 값에 대한 \"총콜레스테롤\" 을 distplot 으로 그리며, 하나의 그래프에 표시되도록 합니다.\n",
        "\n"
      ]
    },
    {
      "cell_type": "code",
      "execution_count": null,
      "metadata": {
        "id": "AwDu2qoTxSBX"
      },
      "outputs": [],
      "source": [
        "# 감마지티피 값에 따라 음주여부를 시각화 합니다.\n",
        "\n"
      ]
    },
    {
      "cell_type": "markdown",
      "metadata": {
        "id": "qJ7P3KGLxSBX"
      },
      "source": [
        "## 상관 분석\n",
        "* [상관 분석 - 위키백과, 우리 모두의 백과사전](https://ko.wikipedia.org/wiki/%EC%83%81%EA%B4%80_%EB%B6%84%EC%84%9D)\n",
        "\n",
        "```\n",
        "r이 -1.0과 -0.7 사이이면, 강한 음적 선형관계,\n",
        "r이 -0.7과 -0.3 사이이면, 뚜렷한 음적 선형관계,\n",
        "r이 -0.3과 -0.1 사이이면, 약한 음적 선형관계,\n",
        "r이 -0.1과 +0.1 사이이면, 거의 무시될 수 있는 선형관계,\n",
        "r이 +0.1과 +0.3 사이이면, 약한 양적 선형관계,\n",
        "r이 +0.3과 +0.7 사이이면, 뚜렷한 양적 선형관계,\n",
        "r이 +0.7과 +1.0 사이이면, 강한 양적 선형관계\n",
        "```"
      ]
    },
    {
      "cell_type": "code",
      "execution_count": null,
      "metadata": {
        "id": "6XDZZNisxSBY"
      },
      "outputs": [],
      "source": [
        "# 상관계수에 사용할 컬럼을 변수에 담습니다.\n",
        "columns = ['연령대코드(5세단위)', '체중(5Kg 단위)', '신장(5Cm단위)', '허리둘레',\n",
        "           '시력(좌)', '시력(우)', '청력(좌)', '청력(우)',\n",
        "           '수축기혈압', '이완기혈압', '식전혈당(공복혈당)',\n",
        "           '총콜레스테롤', '트리글리세라이드', 'HDL콜레스테롤', 'LDL콜레스테롤', '혈색소', '요단백',\n",
        "           '혈청크레아티닌', '(혈청지오티)AST', '(혈청지오티)ALT', '감마지티피', '흡연상태', '음주여부']\n",
        "columns"
      ]
    },
    {
      "cell_type": "markdown",
      "metadata": {
        "id": "7rmmJD96xSBY"
      },
      "source": [
        "### 상관계수 구하기"
      ]
    },
    {
      "cell_type": "code",
      "execution_count": null,
      "metadata": {
        "id": "Gta9sJwJxSBY"
      },
      "outputs": [],
      "source": [
        "# 샘플컬럼만 가져와서 df_small 이라는 데이터프레임에 담은 뒤 상관계수를 구합니다.\n",
        "\n"
      ]
    },
    {
      "cell_type": "code",
      "execution_count": null,
      "metadata": {
        "id": "ftdHI98yxSBY"
      },
      "outputs": [],
      "source": [
        "# 키에 대한 상관계수가 특정 수치 이상인 데이터를 봅니다.\n",
        "\n"
      ]
    },
    {
      "cell_type": "code",
      "execution_count": null,
      "metadata": {
        "id": "eeS87qXjxSBY"
      },
      "outputs": [],
      "source": [
        "# 음주여부에 대한 상관계수가 특정 수치 이상인 데이터를 봅니다.\n"
      ]
    },
    {
      "cell_type": "code",
      "execution_count": null,
      "metadata": {
        "id": "diL10AOzxSBZ"
      },
      "outputs": [],
      "source": [
        "# 혈색소에 대한 상관계수가 특정 수치 이상인 데이터를 봅니다.\n"
      ]
    },
    {
      "cell_type": "code",
      "execution_count": null,
      "metadata": {
        "id": "O_7YHpOvxSBZ"
      },
      "outputs": [],
      "source": [
        "# 감마지티피에 대한 상관계수가 특정 수치 이상인 데이터를 봅니다.\n"
      ]
    },
    {
      "cell_type": "markdown",
      "metadata": {
        "id": "PAZMg9e8xSBZ"
      },
      "source": [
        "### heatmap\n",
        "* [Plotting a diagonal correlation matrix — seaborn 0.10.0 documentation](https://seaborn.pydata.org/examples/many_pairwise_correlations.html)"
      ]
    },
    {
      "cell_type": "code",
      "execution_count": null,
      "metadata": {
        "id": "VDLJ4J07xSBZ"
      },
      "outputs": [],
      "source": [
        "# 위에서 구한 상관계수를 heatmap을 통해 표현해 봅니다.\n"
      ]
    },
    {
      "cell_type": "code",
      "execution_count": null,
      "metadata": {
        "id": "HMBWNyl8xSBZ"
      },
      "outputs": [],
      "source": []
    },
    {
      "cell_type": "code",
      "execution_count": null,
      "metadata": {
        "id": "_cSnsDGbxSBZ"
      },
      "outputs": [],
      "source": []
    },
    {
      "cell_type": "code",
      "execution_count": null,
      "metadata": {
        "id": "2amujKk_xSBZ"
      },
      "outputs": [],
      "source": []
    }
  ],
  "metadata": {
    "kernelspec": {
      "display_name": "Python 3",
      "language": "python",
      "name": "python3"
    },
    "language_info": {
      "codemirror_mode": {
        "name": "ipython",
        "version": 3
      },
      "file_extension": ".py",
      "mimetype": "text/x-python",
      "name": "python",
      "nbconvert_exporter": "python",
      "pygments_lexer": "ipython3",
      "version": "3.7.3"
    },
    "toc": {
      "base_numbering": 1,
      "nav_menu": {},
      "number_sections": true,
      "sideBar": true,
      "skip_h1_title": false,
      "title_cell": "Table of Contents",
      "title_sidebar": "Contents",
      "toc_cell": false,
      "toc_position": {
        "height": "calc(100% - 180px)",
        "left": "10px",
        "top": "150px",
        "width": "233px"
      },
      "toc_section_display": true,
      "toc_window_display": true
    },
    "varInspector": {
      "cols": {
        "lenName": 16,
        "lenType": 16,
        "lenVar": 40
      },
      "kernels_config": {
        "python": {
          "delete_cmd_postfix": "",
          "delete_cmd_prefix": "del ",
          "library": "var_list.py",
          "varRefreshCmd": "print(var_dic_list())"
        },
        "r": {
          "delete_cmd_postfix": ") ",
          "delete_cmd_prefix": "rm(",
          "library": "var_list.r",
          "varRefreshCmd": "cat(var_dic_list()) "
        }
      },
      "types_to_exclude": [
        "module",
        "function",
        "builtin_function_or_method",
        "instance",
        "_Feature"
      ],
      "window_display": false
    },
    "colab": {
      "provenance": []
    }
  },
  "nbformat": 4,
  "nbformat_minor": 0
}